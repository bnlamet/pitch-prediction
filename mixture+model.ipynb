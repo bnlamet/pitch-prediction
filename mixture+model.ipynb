{
 "cells": [
  {
   "cell_type": "code",
   "execution_count": 4,
   "metadata": {
    "collapsed": false
   },
   "outputs": [],
   "source": [
    "%matplotlib inline\n",
    "import numpy as np\n",
    "import tensorflow as tf\n",
    "import matplotlib.pyplot as plt\n",
    "import logging\n",
    "from scipy import stats\n",
    "from mpl_toolkits.mplot3d import Axes3D\n",
    "logging.getLogger().setLevel(logging.INFO)"
   ]
  },
  {
   "cell_type": "code",
   "execution_count": 5,
   "metadata": {
    "collapsed": false
   },
   "outputs": [],
   "source": [
    "def get_data(n):\n",
    "    u = np.array([0, 5, 10])\n",
    "    us = np.random.randint(0,3,n)\n",
    "    return np.random.normal(u[us], 1).reshape(n,1)"
   ]
  },
  {
   "cell_type": "code",
   "execution_count": 6,
   "metadata": {
    "collapsed": false
   },
   "outputs": [
    {
     "name": "stdout",
     "output_type": "stream",
     "text": [
      "4.88871900097\n"
     ]
    },
    {
     "data": {
      "image/png": "[encoded data removed]",
      "text/plain": [
       "<matplotlib.figure.Figure at 0x7fb4b97e32e8>"
      ]
     },
     "metadata": {},
     "output_type": "display_data"
    }
   ],
   "source": [
    "data = get_data(1000)\n",
    "print(data.mean())\n",
    "plt.hist(data, bins=100)\n",
    "plt.show()"
   ]
  },
  {
   "cell_type": "code",
   "execution_count": 7,
   "metadata": {
    "collapsed": false
   },
   "outputs": [],
   "source": [
    "x = tf.placeholder(tf.float32, shape=[None, 1])\n",
    "means = tf.Variable([6,3,4], dtype=tf.float32)\n",
    "normals = tf.contrib.distributions.Normal(mu=means, sigma=1.0)\n",
    "likelihoods = tf.reduce_mean(normals.pdf(x), reduction_indices=[1])\n",
    "loglike = tf.reduce_sum(tf.log(likelihoods))\n",
    "train_step = tf.train.GradientDescentOptimizer(0.001).minimize(-loglike)"
   ]
  },
  {
   "cell_type": "code",
   "execution_count": 8,
   "metadata": {
    "collapsed": false
   },
   "outputs": [
    {
     "name": "stdout",
     "output_type": "stream",
     "text": [
      "[ 9.95106125  0.01111502  4.9396286 ]\n"
     ]
    }
   ],
   "source": [
    "init = tf.initialize_all_variables()\n",
    "sess = tf.InteractiveSession()\n",
    "sess.run(init)\n",
    "for _ in range(10000):\n",
    "    sess.run(train_step, feed_dict={x:data})\n",
    "ans = means.eval(sess)\n",
    "print(ans)\n",
    "sess.close()"
   ]
  },
  {
   "cell_type": "code",
   "execution_count": 67,
   "metadata": {
    "collapsed": false
   },
   "outputs": [
    {
     "data": {
      "text/plain": [
       "array([ 0.3204565,  0.0292114], dtype=float32)"
      ]
     },
     "execution_count": 67,
     "metadata": {},
     "output_type": "execute_result"
    }
   ],
   "source": [
    "# 1 dimensional test\n",
    "means = np.array([ [0, 1], [1, 2] ], dtype=np.float32) # 2 models with\n",
    "stdevs = np.array([ [1, 1], [1, 1] ], dtype=np.float32)\n",
    "mixing = tf.constant(np.array([ [0.5, 0.5], [0.5, 0.5] ], dtype=np.float32))\n",
    "normals = tf.contrib.distributions.Normal(means, stdevs)\n",
    "points = np.array([0, -1], dtype=np.float32)\n",
    "ans = tf.reduce_sum(mixing * normals.pdf(points), reduction_indices=[0])\n",
    "sess = tf.InteractiveSession()\n",
    "sess.run(ans)"
   ]
  },
  {
   "cell_type": "code",
   "execution_count": 104,
   "metadata": {
    "collapsed": false
   },
   "outputs": [
    {
     "data": {
      "text/plain": [
       "array([ 0.02927492,  0.07957748], dtype=float32)"
      ]
     },
     "execution_count": 104,
     "metadata": {},
     "output_type": "execute_result"
    }
   ],
   "source": [
    "means = tf.constant(np.array([[[0,0], [1,1]],[[2,2], [3,3]]], dtype=np.float32))\n",
    "stdevs = tf.constant(np.array([[[1,1], [1,1]],[[1,1], [1,1]]], dtype=np.float32))\n",
    "mixing = tf.constant(np.array([[0.5, 0.5], [0.5, 0.5]], dtype=np.float32))\n",
    "normals = tf.contrib.distributions.MultivariateNormalDiag(means, stdevs)\n",
    "x = tf.constant(np.array([[1,1], [3,3]], dtype=np.float32))\n",
    "\n",
    "normal0 = tf.contrib.distributions.MultivariateNormalDiag(means[0], stdevs[0])\n",
    "normal1 = tf.contrib.distributions.MultivariateNormalDiag(means[1], stdevs[1])\n",
    "\n",
    "like0 = normal0.pdf(x[0]) * mixing[0]\n",
    "like1 = normal1.pdf(x[1]) * mixing[1]\n",
    "\n",
    "sess = tf.InteractiveSession()\n",
    "sess.run(like0)"
   ]
  },
  {
   "cell_type": "code",
   "execution_count": 93,
   "metadata": {
    "collapsed": false
   },
   "outputs": [
    {
     "data": {
      "text/plain": [
       "<tf.Tensor 'MultivariateNormalDiag_27/init/mu:0' shape=(2, 2, 2) dtype=float32>"
      ]
     },
     "execution_count": 93,
     "metadata": {},
     "output_type": "execute_result"
    }
   ],
   "source": [
    "normals.mu"
   ]
  },
  {
   "cell_type": "code",
   "execution_count": 76,
   "metadata": {
    "collapsed": true
   },
   "outputs": [],
   "source": [
    "categorical = tf.contrib.distributions.MultivariateNormalDiag?"
   ]
  },
  {
   "cell_type": "code",
   "execution_count": null,
   "metadata": {
    "collapsed": true
   },
   "outputs": [],
   "source": [
    "categorical = tf.contrib.distributions.MultivariateNormalDiag"
   ]
  },
  {
   "cell_type": "code",
   "execution_count": null,
   "metadata": {
    "collapsed": true
   },
   "outputs": [],
   "source": [
    "categorical = tf.contrib.distributions.MultivariateNormalCholesky"
   ]
  },
  {
   "cell_type": "code",
   "execution_count": null,
   "metadata": {
    "collapsed": true
   },
   "outputs": [],
   "source": [
    "categorical = tf.contrib.distributions.Mixture"
   ]
  },
  {
   "cell_type": "code",
   "execution_count": null,
   "metadata": {
    "collapsed": true
   },
   "outputs": [],
   "source": [
    "categorical = tf.contrib.distributions.Categorical"
   ]
  },
  {
   "cell_type": "code",
   "execution_count": null,
   "metadata": {
    "collapsed": true
   },
   "outputs": [],
   "source": []
  }
 ],
 "metadata": {
  "kernelspec": {
   "display_name": "Python 3",
   "language": "python",
   "name": "python3"
  },
  "language_info": {
   "codemirror_mode": {
    "name": "ipython",
    "version": 3
   },
   "file_extension": ".py",
   "mimetype": "text/x-python",
   "name": "python",
   "nbconvert_exporter": "python",
   "pygments_lexer": "ipython3",
   "version": "3.5.2"
  }
 },
 "nbformat": 4,
 "nbformat_minor": 1
}
