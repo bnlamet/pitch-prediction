{
 "cells": [
  {
   "cell_type": "code",
   "execution_count": 1,
   "metadata": {
    "collapsed": false
   },
   "outputs": [
    {
     "name": "stderr",
     "output_type": "stream",
     "text": [
      "/usr/local/lib/python3.5/dist-packages/sklearn/cross_validation.py:44: DeprecationWarning: This module was deprecated in version 0.18 in favor of the model_selection module into which all the refactored classes and functions are moved. Also note that the interface of the new CV iterators are different from that of this module. This module will be removed in 0.20.\n",
      "  \"This module will be removed in 0.20.\", DeprecationWarning)\n"
     ]
    }
   ],
   "source": [
    "import pandas as pd\n",
    "import numpy as np\n",
    "from sklearn import metrics, cross_validation\n",
    "import tensorflow as tf\n",
    "from tensorflow.contrib import learn\n",
    "from tensorflow.contrib import layers"
   ]
  },
  {
   "cell_type": "code",
   "execution_count": 2,
   "metadata": {
    "collapsed": true
   },
   "outputs": [],
   "source": [
    "data = pd.read_csv('data.csv')\n",
    "data.inning /= 9.0\n",
    "data.order /= 9.0\n",
    "data.weekday /= 7.0\n",
    "data.month /= 12.0\n",
    "data.balls /= 4.0\n",
    "data.strikes /= 3.0\n",
    "sample = data"
   ]
  },
  {
   "cell_type": "code",
   "execution_count": 3,
   "metadata": {
    "collapsed": true
   },
   "outputs": [],
   "source": [
    "cat_features = ['pitcher_id', 'batter_id', 'away_team', 'home_team', \n",
    "                'year', 'b_stand', 'p_throws', 'inning_half',  \n",
    "                'batter_team', 'pitcher_team', 'type']\n",
    "real_features = ['night', 'inning', 'order', 'home', 'weekday', \n",
    "                 'month', 'balls', 'strikes', 'sz_top', 'sz_bot']\n",
    "n_cat = len(cat_features)\n",
    "n_real = len(real_features)\n",
    "ptypes = sample.type.unique()\n",
    "depths = [len(data[col].unique()) for col in cat_features]"
   ]
  },
  {
   "cell_type": "code",
   "execution_count": 4,
   "metadata": {
    "collapsed": false
   },
   "outputs": [],
   "source": [
    "N = len(sample)\n",
    "n_outputs = len(ptypes)\n",
    "embedding_size = 30\n",
    "prep = learn.preprocessing.CategoricalProcessor()\n",
    "cat_data = np.array(list(prep.fit_transform(sample[cat_features])))\n",
    "n_pitchers = cat_data[:,0].max() + 1\n",
    "n_batters = cat_data[:,1].max() + 1\n",
    "\n",
    "real_data = sample[real_features].values\n",
    "loc_data = sample[['px','pz']].values"
   ]
  },
  {
   "cell_type": "code",
   "execution_count": 5,
   "metadata": {
    "collapsed": false
   },
   "outputs": [],
   "source": [
    "def learn_type():\n",
    "    p_embeddings = tf.Variable(tf.random_uniform([n_pitchers, embedding_size], -1.0, 1.0))\n",
    "    b_embeddings = tf.Variable(tf.random_uniform([n_batters, embedding_size], -1.0, 1.0))\n",
    "\n",
    "    cat_batch = tf.placeholder(tf.int32, [None, n_cat-1])\n",
    "    real_batch = tf.placeholder(tf.float32, [None, n_real])\n",
    "    result_batch = tf.placeholder(tf.int32, [None])\n",
    "\n",
    "    pitchers = cat_batch[:,0]\n",
    "    batters = cat_batch[:,1]\n",
    "\n",
    "    p_embed = tf.nn.embedding_lookup(p_embeddings, pitchers)\n",
    "    b_embed = tf.nn.embedding_lookup(b_embeddings, batters)\n",
    "\n",
    "    inputs = [p_embed, b_embed, real_batch]\n",
    "    for i in range(2, n_cat-1):\n",
    "        inputs.append(tf.one_hot(cat_batch[:,i], depth=depths[i],\n",
    "                      on_value=1.0, off_value=0.0, dtype=tf.float32))\n",
    "    input_layer = tf.concat(concat_dim=1, values=inputs)\n",
    "\n",
    "    in_dim = input_layer.get_shape()[1]\n",
    "\n",
    "    W1 = tf.Variable(tf.zeros([in_dim, 75]))\n",
    "    b1 = tf.Variable(tf.zeros([75]))\n",
    "\n",
    "    hidden = tf.nn.relu(tf.matmul(input_layer, W1) + b1)\n",
    "\n",
    "    W2 = tf.Variable(tf.zeros([75, n_outputs]))\n",
    "    b2 = tf.Variable(tf.zeros([n_outputs]))\n",
    "\n",
    "    y = tf.nn.softmax(tf.matmul(hidden, W2) + b2)\n",
    "    y_ = tf.one_hot(indices=result_batch - 1, depth=n_outputs, \n",
    "                    on_value=1.0, off_value=0.0, dtype=tf.float32)\n",
    "\n",
    "    cross_entropy = tf.reduce_mean(-tf.reduce_sum(y_ * tf.log(y), reduction_indices=[1]))\n",
    "    train_step = tf.train.GradientDescentOptimizer(0.1).minimize(cross_entropy)\n",
    "\n",
    "    init = tf.initialize_all_variables()\n",
    "    sess = tf.InteractiveSession()\n",
    "    sess.run(init)\n",
    "    batch_size = 500\n",
    "    for i in range(5000):\n",
    "        idx = np.random.randint(0, data.shape[0], batch_size)\n",
    "        input_data = {cat_batch : cat_data[idx,:-1],\n",
    "                                real_batch : real_data[idx], \n",
    "                                result_batch : cat_data[idx,-1]}\n",
    "        sess.run(train_step, feed_dict=input_data)\n",
    "        if i % 500 == 0:\n",
    "            print(sess.run(cross_entropy, feed_dict=input_data))"
   ]
  },
  {
   "cell_type": "code",
   "execution_count": 6,
   "metadata": {
    "collapsed": false
   },
   "outputs": [],
   "source": [
    "def learn_loc():\n",
    "    n_mixtures = 4\n",
    "    p_embeddings = tf.Variable(tf.random_uniform([n_pitchers, embedding_size], -1.0, 1.0))\n",
    "    b_embeddings = tf.Variable(tf.random_uniform([n_batters, embedding_size], -1.0, 1.0))\n",
    "\n",
    "    cat_batch = tf.placeholder(tf.int32, [None, n_cat])\n",
    "    real_batch = tf.placeholder(tf.float32, [None, n_real])\n",
    "    loc_batch = tf.placeholder(tf.float32, [None, 2])\n",
    "\n",
    "    n_items = tf.shape(cat_batch)[0]\n",
    "\n",
    "    pitchers = cat_batch[:,0]\n",
    "    batters = cat_batch[:,1]\n",
    "\n",
    "    p_embed = tf.nn.embedding_lookup(p_embeddings, pitchers)\n",
    "    b_embed = tf.nn.embedding_lookup(b_embeddings, batters)\n",
    "\n",
    "    inputs = [p_embed, b_embed, real_batch]\n",
    "    for i in range(2, n_cat):\n",
    "        inputs.append(tf.one_hot(cat_batch[:,i], depth=depths[i],\n",
    "                      on_value=1.0, off_value=0.0, dtype=tf.float32))\n",
    "    input_layer = tf.concat(concat_dim=1, values=inputs)\n",
    "\n",
    "    in_dim = input_layer.get_shape()[1]\n",
    "\n",
    "    W1 = tf.Variable(tf.zeros([in_dim, 75]))\n",
    "    b1 = tf.Variable(tf.random_normal([75], 0.0, .01)) + 0.03\n",
    "\n",
    "    hidden = tf.nn.relu(tf.matmul(input_layer, W1) + b1)\n",
    "\n",
    "    W2 = tf.Variable(tf.random_normal([75, n_mixtures], 0.0, .01))\n",
    "    b2 = tf.Variable(tf.random_normal([n_mixtures], 0.0, .01))\n",
    "    W3 = tf.Variable(tf.random_normal([75, n_mixtures*2], 0.0, .01))\n",
    "    b3 = tf.Variable(tf.random_normal([n_mixtures*2], 0.0, .01))\n",
    "    W4 = tf.Variable(tf.random_normal([75, n_mixtures*2], 0.0, .01))\n",
    "    b4 = tf.Variable(tf.random_normal([n_mixtures*2], 0.0, .01))\n",
    "\n",
    "    weights = tf.nn.softmax(tf.matmul(hidden, W2) + b2)\n",
    "    means =  tf.reshape(tf.matmul(hidden, W3) + b3, tf.pack([n_items, n_mixtures, 2]))\n",
    "    stdevs = tf.reshape(tf.exp(tf.matmul(hidden, W4) + b4), tf.pack([n_items, n_mixtures, 2]))\n",
    "\n",
    "    def likelihood(i):\n",
    "        normals = tf.contrib.distributions.MultivariateNormalDiag(means[i], stdevs[i])\n",
    "        return tf.reduce_sum(weights[i] * normals.pdf(loc_batch[i]))\n",
    "\n",
    "    likelihoods = tf.map_fn(likelihood, tf.range(0, n_items), dtype=tf.float32)\n",
    "    loglike = tf.reduce_mean(tf.log(likelihoods))\n",
    "\n",
    "    train_step = tf.train.AdamOptimizer(0.0005).minimize(-loglike)\n",
    "    init = tf.initialize_all_variables()\n",
    "    \n",
    "    sess = tf.InteractiveSession()\n",
    "    sess.run(init)\n",
    "    \n",
    "    batch_size = 500\n",
    "    for i in range(1000):\n",
    "        idx = np.random.randint(0, data.shape[0], batch_size)\n",
    "        input_data = feed_dict={cat_batch : cat_data[idx],\n",
    "                                real_batch : real_data[idx], \n",
    "                                loc_batch : loc_data[idx]}\n",
    "        if i % 1 == 0:\n",
    "            print(sess.run(loglike, feed_dict = input_data)) \n",
    "        sess.run(train_step, feed_dict = input_data)"
   ]
  },
  {
   "cell_type": "code",
   "execution_count": null,
   "metadata": {
    "collapsed": false
   },
   "outputs": [],
   "source": [
    "learn_type()"
   ]
  },
  {
   "cell_type": "code",
   "execution_count": 7,
   "metadata": {
    "collapsed": false
   },
   "outputs": [
    {
     "name": "stdout",
     "output_type": "stream",
     "text": [
      "-5.27413\n",
      "-5.39169\n",
      "-5.30898\n",
      "-5.33108\n",
      "-5.26724\n",
      "-5.197\n",
      "-5.23343\n",
      "-5.11935\n",
      "-5.0366\n",
      "-4.94741\n",
      "-5.03017\n",
      "-4.79619\n",
      "-4.7635\n",
      "-4.84038\n",
      "-4.80169\n",
      "-4.65245\n",
      "-4.56762\n",
      "-4.58284\n",
      "-4.55882\n",
      "-4.47677\n",
      "-4.28633\n",
      "-4.39069\n",
      "-4.27964\n",
      "-4.28338\n",
      "-4.04111\n",
      "-4.17508\n",
      "-4.02758\n",
      "-3.95397\n",
      "-3.86843\n",
      "-3.91959\n",
      "-3.7589\n",
      "-3.75697\n",
      "-3.7368\n",
      "-3.59165\n",
      "-3.66602\n",
      "-3.66856\n",
      "-3.65108\n",
      "-3.52799\n",
      "-3.42759\n",
      "-3.42755\n",
      "-3.53687\n",
      "-3.43937\n",
      "-3.36024\n",
      "-3.42647\n",
      "-3.36767\n",
      "-3.46017\n",
      "-3.38282\n",
      "-3.37456\n",
      "-3.38673\n",
      "-3.34057\n",
      "-3.34022\n",
      "-3.30281\n",
      "-3.30966\n",
      "-3.30184\n",
      "-3.30683\n",
      "-3.32054\n",
      "-3.31661\n",
      "-3.29127\n",
      "-3.21946\n",
      "-3.32833\n",
      "-3.25991\n",
      "-3.18458\n",
      "-3.33239\n",
      "-3.28766\n",
      "-3.2085\n",
      "-3.26279\n",
      "-3.19365\n",
      "-3.2248\n",
      "-3.2434\n",
      "-3.21665\n",
      "-3.15583\n",
      "-3.17663\n",
      "-3.2054\n",
      "-3.18445\n",
      "-3.14716\n",
      "-3.15606\n",
      "-3.1704\n",
      "-3.07541\n",
      "-3.13651\n",
      "-3.08632\n",
      "-3.0482\n",
      "-3.15193\n",
      "-3.03296\n",
      "-2.99706\n",
      "-3.01844\n",
      "-2.9888\n",
      "-2.9597\n",
      "-2.99504\n",
      "-2.96842\n",
      "-2.9246\n",
      "-2.91749\n",
      "-2.89767\n",
      "-2.84875\n",
      "-2.8547\n",
      "-2.81563\n",
      "-2.76879\n",
      "-2.8489\n",
      "-2.78997\n",
      "-2.74561\n",
      "-2.75972\n",
      "-2.70958\n",
      "-2.65353\n",
      "-2.70319\n",
      "-2.66975\n",
      "-2.6998\n",
      "-2.71439\n",
      "-2.66561\n",
      "-2.61665\n",
      "-2.70766\n",
      "-2.67288\n",
      "-2.7082\n",
      "-2.6835\n",
      "-2.68394\n",
      "-2.5693\n",
      "-2.64924\n",
      "-2.68266\n",
      "-2.69629\n",
      "-2.59162\n",
      "-2.60103\n",
      "-2.6771\n",
      "-2.70144\n",
      "-2.5943\n",
      "-2.60254\n",
      "-2.63361\n",
      "-2.67679\n",
      "-2.595\n",
      "-2.60625\n",
      "-2.64513\n",
      "-2.55752\n",
      "-2.5734\n",
      "-2.56056\n",
      "-2.65743\n",
      "-2.60486\n",
      "-2.62611\n",
      "-2.64632\n",
      "-2.6254\n",
      "-2.57398\n",
      "-2.57672\n",
      "-2.65354\n",
      "-2.6563\n",
      "-2.62228\n",
      "-2.62741\n",
      "-2.59759\n",
      "-2.60973\n",
      "-2.60342\n",
      "-2.54312\n",
      "-2.63351\n",
      "-2.63464\n",
      "-2.61144\n",
      "-2.58086\n"
     ]
    },
    {
     "ename": "KeyboardInterrupt",
     "evalue": "",
     "output_type": "error",
     "traceback": [
      "\u001b[0;31m---------------------------------------------------------------------------\u001b[0m",
      "\u001b[0;31mKeyboardInterrupt\u001b[0m                         Traceback (most recent call last)",
      "\u001b[0;32m<ipython-input-7-4bec2bdab725>\u001b[0m in \u001b[0;36m<module>\u001b[0;34m()\u001b[0m\n\u001b[0;32m----> 1\u001b[0;31m \u001b[0mlearn_loc\u001b[0m\u001b[0;34m(\u001b[0m\u001b[0;34m)\u001b[0m\u001b[0;34m\u001b[0m\u001b[0m\n\u001b[0m",
      "\u001b[0;32m<ipython-input-6-96f5bb1b1620>\u001b[0m in \u001b[0;36mlearn_loc\u001b[0;34m()\u001b[0m\n\u001b[1;32m     60\u001b[0m                                 loc_batch : loc_data[idx]}\n\u001b[1;32m     61\u001b[0m         \u001b[0;32mif\u001b[0m \u001b[0mi\u001b[0m \u001b[0;34m%\u001b[0m \u001b[0;36m1\u001b[0m \u001b[0;34m==\u001b[0m \u001b[0;36m0\u001b[0m\u001b[0;34m:\u001b[0m\u001b[0;34m\u001b[0m\u001b[0m\n\u001b[0;32m---> 62\u001b[0;31m             \u001b[0mprint\u001b[0m\u001b[0;34m(\u001b[0m\u001b[0msess\u001b[0m\u001b[0;34m.\u001b[0m\u001b[0mrun\u001b[0m\u001b[0;34m(\u001b[0m\u001b[0mloglike\u001b[0m\u001b[0;34m,\u001b[0m \u001b[0mfeed_dict\u001b[0m \u001b[0;34m=\u001b[0m \u001b[0minput_data\u001b[0m\u001b[0;34m)\u001b[0m\u001b[0;34m)\u001b[0m\u001b[0;34m\u001b[0m\u001b[0m\n\u001b[0m\u001b[1;32m     63\u001b[0m         \u001b[0msess\u001b[0m\u001b[0;34m.\u001b[0m\u001b[0mrun\u001b[0m\u001b[0;34m(\u001b[0m\u001b[0mtrain_step\u001b[0m\u001b[0;34m,\u001b[0m \u001b[0mfeed_dict\u001b[0m \u001b[0;34m=\u001b[0m \u001b[0minput_data\u001b[0m\u001b[0;34m)\u001b[0m\u001b[0;34m\u001b[0m\u001b[0m\n",
      "\u001b[0;32m/usr/local/lib/python3.5/dist-packages/tensorflow/python/client/session.py\u001b[0m in \u001b[0;36mrun\u001b[0;34m(self, fetches, feed_dict, options, run_metadata)\u001b[0m\n\u001b[1;32m    715\u001b[0m     \u001b[0;32mtry\u001b[0m\u001b[0;34m:\u001b[0m\u001b[0;34m\u001b[0m\u001b[0m\n\u001b[1;32m    716\u001b[0m       result = self._run(None, fetches, feed_dict, options_ptr,\n\u001b[0;32m--> 717\u001b[0;31m                          run_metadata_ptr)\n\u001b[0m\u001b[1;32m    718\u001b[0m       \u001b[0;32mif\u001b[0m \u001b[0mrun_metadata\u001b[0m\u001b[0;34m:\u001b[0m\u001b[0;34m\u001b[0m\u001b[0m\n\u001b[1;32m    719\u001b[0m         \u001b[0mproto_data\u001b[0m \u001b[0;34m=\u001b[0m \u001b[0mtf_session\u001b[0m\u001b[0;34m.\u001b[0m\u001b[0mTF_GetBuffer\u001b[0m\u001b[0;34m(\u001b[0m\u001b[0mrun_metadata_ptr\u001b[0m\u001b[0;34m)\u001b[0m\u001b[0;34m\u001b[0m\u001b[0m\n",
      "\u001b[0;32m/usr/local/lib/python3.5/dist-packages/tensorflow/python/client/session.py\u001b[0m in \u001b[0;36m_run\u001b[0;34m(self, handle, fetches, feed_dict, options, run_metadata)\u001b[0m\n\u001b[1;32m    913\u001b[0m     \u001b[0;32mif\u001b[0m \u001b[0mfinal_fetches\u001b[0m \u001b[0;32mor\u001b[0m \u001b[0mfinal_targets\u001b[0m\u001b[0;34m:\u001b[0m\u001b[0;34m\u001b[0m\u001b[0m\n\u001b[1;32m    914\u001b[0m       results = self._do_run(handle, final_targets, final_fetches,\n\u001b[0;32m--> 915\u001b[0;31m                              feed_dict_string, options, run_metadata)\n\u001b[0m\u001b[1;32m    916\u001b[0m     \u001b[0;32melse\u001b[0m\u001b[0;34m:\u001b[0m\u001b[0;34m\u001b[0m\u001b[0m\n\u001b[1;32m    917\u001b[0m       \u001b[0mresults\u001b[0m \u001b[0;34m=\u001b[0m \u001b[0;34m[\u001b[0m\u001b[0;34m]\u001b[0m\u001b[0;34m\u001b[0m\u001b[0m\n",
      "\u001b[0;32m/usr/local/lib/python3.5/dist-packages/tensorflow/python/client/session.py\u001b[0m in \u001b[0;36m_do_run\u001b[0;34m(self, handle, target_list, fetch_list, feed_dict, options, run_metadata)\u001b[0m\n\u001b[1;32m    963\u001b[0m     \u001b[0;32mif\u001b[0m \u001b[0mhandle\u001b[0m \u001b[0;32mis\u001b[0m \u001b[0;32mNone\u001b[0m\u001b[0;34m:\u001b[0m\u001b[0;34m\u001b[0m\u001b[0m\n\u001b[1;32m    964\u001b[0m       return self._do_call(_run_fn, self._session, feed_dict, fetch_list,\n\u001b[0;32m--> 965\u001b[0;31m                            target_list, options, run_metadata)\n\u001b[0m\u001b[1;32m    966\u001b[0m     \u001b[0;32melse\u001b[0m\u001b[0;34m:\u001b[0m\u001b[0;34m\u001b[0m\u001b[0m\n\u001b[1;32m    967\u001b[0m       return self._do_call(_prun_fn, self._session, handle, feed_dict,\n",
      "\u001b[0;32m/usr/local/lib/python3.5/dist-packages/tensorflow/python/client/session.py\u001b[0m in \u001b[0;36m_do_call\u001b[0;34m(self, fn, *args)\u001b[0m\n\u001b[1;32m    970\u001b[0m   \u001b[0;32mdef\u001b[0m \u001b[0m_do_call\u001b[0m\u001b[0;34m(\u001b[0m\u001b[0mself\u001b[0m\u001b[0;34m,\u001b[0m \u001b[0mfn\u001b[0m\u001b[0;34m,\u001b[0m \u001b[0;34m*\u001b[0m\u001b[0margs\u001b[0m\u001b[0;34m)\u001b[0m\u001b[0;34m:\u001b[0m\u001b[0;34m\u001b[0m\u001b[0m\n\u001b[1;32m    971\u001b[0m     \u001b[0;32mtry\u001b[0m\u001b[0;34m:\u001b[0m\u001b[0;34m\u001b[0m\u001b[0m\n\u001b[0;32m--> 972\u001b[0;31m       \u001b[0;32mreturn\u001b[0m \u001b[0mfn\u001b[0m\u001b[0;34m(\u001b[0m\u001b[0;34m*\u001b[0m\u001b[0margs\u001b[0m\u001b[0;34m)\u001b[0m\u001b[0;34m\u001b[0m\u001b[0m\n\u001b[0m\u001b[1;32m    973\u001b[0m     \u001b[0;32mexcept\u001b[0m \u001b[0merrors\u001b[0m\u001b[0;34m.\u001b[0m\u001b[0mOpError\u001b[0m \u001b[0;32mas\u001b[0m \u001b[0me\u001b[0m\u001b[0;34m:\u001b[0m\u001b[0;34m\u001b[0m\u001b[0m\n\u001b[1;32m    974\u001b[0m       \u001b[0mmessage\u001b[0m \u001b[0;34m=\u001b[0m \u001b[0mcompat\u001b[0m\u001b[0;34m.\u001b[0m\u001b[0mas_text\u001b[0m\u001b[0;34m(\u001b[0m\u001b[0me\u001b[0m\u001b[0;34m.\u001b[0m\u001b[0mmessage\u001b[0m\u001b[0;34m)\u001b[0m\u001b[0;34m\u001b[0m\u001b[0m\n",
      "\u001b[0;32m/usr/local/lib/python3.5/dist-packages/tensorflow/python/client/session.py\u001b[0m in \u001b[0;36m_run_fn\u001b[0;34m(session, feed_dict, fetch_list, target_list, options, run_metadata)\u001b[0m\n\u001b[1;32m    952\u001b[0m         return tf_session.TF_Run(session, options,\n\u001b[1;32m    953\u001b[0m                                  \u001b[0mfeed_dict\u001b[0m\u001b[0;34m,\u001b[0m \u001b[0mfetch_list\u001b[0m\u001b[0;34m,\u001b[0m \u001b[0mtarget_list\u001b[0m\u001b[0;34m,\u001b[0m\u001b[0;34m\u001b[0m\u001b[0m\n\u001b[0;32m--> 954\u001b[0;31m                                  status, run_metadata)\n\u001b[0m\u001b[1;32m    955\u001b[0m \u001b[0;34m\u001b[0m\u001b[0m\n\u001b[1;32m    956\u001b[0m     \u001b[0;32mdef\u001b[0m \u001b[0m_prun_fn\u001b[0m\u001b[0;34m(\u001b[0m\u001b[0msession\u001b[0m\u001b[0;34m,\u001b[0m \u001b[0mhandle\u001b[0m\u001b[0;34m,\u001b[0m \u001b[0mfeed_dict\u001b[0m\u001b[0;34m,\u001b[0m \u001b[0mfetch_list\u001b[0m\u001b[0;34m)\u001b[0m\u001b[0;34m:\u001b[0m\u001b[0;34m\u001b[0m\u001b[0m\n",
      "\u001b[0;31mKeyboardInterrupt\u001b[0m: "
     ]
    }
   ],
   "source": [
    "learn_loc()"
   ]
  },
  {
   "cell_type": "code",
   "execution_count": 120,
   "metadata": {
    "collapsed": false
   },
   "outputs": [
    {
     "data": {
      "text/plain": [
       "1"
      ]
     },
     "execution_count": 120,
     "metadata": {},
     "output_type": "execute_result"
    }
   ],
   "source": [
    "cat_data[:,-1].min()"
   ]
  },
  {
   "cell_type": "code",
   "execution_count": null,
   "metadata": {
    "collapsed": true
   },
   "outputs": [],
   "source": []
  }
 ],
 "metadata": {
  "kernelspec": {
   "display_name": "Python 3",
   "language": "python",
   "name": "python3"
  },
  "language_info": {
   "codemirror_mode": {
    "name": "ipython",
    "version": 3
   },
   "file_extension": ".py",
   "mimetype": "text/x-python",
   "name": "python",
   "nbconvert_exporter": "python",
   "pygments_lexer": "ipython3",
   "version": "3.5.2"
  }
 },
 "nbformat": 4,
 "nbformat_minor": 1
}
